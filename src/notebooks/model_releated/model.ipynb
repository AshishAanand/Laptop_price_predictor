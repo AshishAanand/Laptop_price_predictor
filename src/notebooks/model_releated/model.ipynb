{
 "cells": [
  {
   "cell_type": "code",
   "execution_count": 175,
   "id": "a583e171",
   "metadata": {},
   "outputs": [],
   "source": [
    "import pandas as pd\n",
    "import joblib\n",
    "import sys\n",
    "import os\n",
    "from sklearn.model_selection import train_test_split, GridSearchCV\n",
    "from sklearn.linear_model import ElasticNet, Lasso, Ridge, LinearRegression\n",
    "from sklearn.ensemble import RandomForestRegressor\n",
    "from sklearn.metrics import mean_squared_error, r2_score\n",
    "from sklearn.pipeline import Pipeline\n",
    "from sklearn.preprocessing import FunctionTransformer, OneHotEncoder, MinMaxScaler\n",
    "from sklearn.compose import ColumnTransformer, make_column_transformer\n",
    "\n",
    "sys.path.append(os.path.abspath(\"../../\"))\n",
    "from utils.helper import clean_data"
   ]
  },
  {
   "cell_type": "markdown",
   "id": "3e25fadb",
   "metadata": {},
   "source": [
    "# Loding Data"
   ]
  },
  {
   "cell_type": "code",
   "execution_count": 176,
   "id": "c637533f",
   "metadata": {},
   "outputs": [],
   "source": [
    "data = pd.read_csv('../../data/processed/cleaned_laptop_data.csv')"
   ]
  },
  {
   "cell_type": "code",
   "execution_count": 177,
   "id": "8d192206",
   "metadata": {},
   "outputs": [
    {
     "data": {
      "application/vnd.microsoft.datawrangler.viewer.v0+json": {
       "columns": [
        {
         "name": "index",
         "rawType": "int64",
         "type": "integer"
        },
        {
         "name": "Company",
         "rawType": "object",
         "type": "string"
        },
        {
         "name": "TypeName",
         "rawType": "object",
         "type": "string"
        },
        {
         "name": "Inches",
         "rawType": "float64",
         "type": "float"
        },
        {
         "name": "Ram",
         "rawType": "int64",
         "type": "integer"
        },
        {
         "name": "OpSys",
         "rawType": "object",
         "type": "string"
        },
        {
         "name": "Weight",
         "rawType": "float64",
         "type": "float"
        },
        {
         "name": "Price",
         "rawType": "float64",
         "type": "float"
        },
        {
         "name": "Width",
         "rawType": "int64",
         "type": "integer"
        },
        {
         "name": "Height",
         "rawType": "int64",
         "type": "integer"
        },
        {
         "name": "CpuBrand",
         "rawType": "object",
         "type": "string"
        },
        {
         "name": "GpuBrand",
         "rawType": "object",
         "type": "string"
        },
        {
         "name": "SSD",
         "rawType": "int64",
         "type": "integer"
        },
        {
         "name": "HDD",
         "rawType": "int64",
         "type": "integer"
        }
       ],
       "ref": "bf97b534-373e-4b4e-a2d1-e0c0709c0855",
       "rows": [
        [
         "0",
         "Apple",
         "Ultrabook",
         "13.3",
         "8",
         "macOS",
         "1.37",
         "71378.6832",
         "2560",
         "1600",
         "Intel",
         "Intel",
         "128",
         "0"
        ],
        [
         "1",
         "Apple",
         "Ultrabook",
         "13.3",
         "8",
         "macOS",
         "1.34",
         "47895.5232",
         "1440",
         "900",
         "Intel",
         "Intel",
         "0",
         "0"
        ],
        [
         "2",
         "HP",
         "Notebook",
         "15.6",
         "8",
         "No OS",
         "1.86",
         "30636.0",
         "1920",
         "1080",
         "Intel",
         "Intel",
         "256",
         "0"
        ],
        [
         "3",
         "Apple",
         "Ultrabook",
         "15.4",
         "16",
         "macOS",
         "1.83",
         "135195.336",
         "2880",
         "1800",
         "Intel",
         "AMD",
         "512",
         "0"
        ],
        [
         "4",
         "Apple",
         "Ultrabook",
         "13.3",
         "8",
         "macOS",
         "1.37",
         "96095.808",
         "2560",
         "1600",
         "Intel",
         "Intel",
         "256",
         "0"
        ]
       ],
       "shape": {
        "columns": 13,
        "rows": 5
       }
      },
      "text/html": [
       "<div>\n",
       "<style scoped>\n",
       "    .dataframe tbody tr th:only-of-type {\n",
       "        vertical-align: middle;\n",
       "    }\n",
       "\n",
       "    .dataframe tbody tr th {\n",
       "        vertical-align: top;\n",
       "    }\n",
       "\n",
       "    .dataframe thead th {\n",
       "        text-align: right;\n",
       "    }\n",
       "</style>\n",
       "<table border=\"1\" class=\"dataframe\">\n",
       "  <thead>\n",
       "    <tr style=\"text-align: right;\">\n",
       "      <th></th>\n",
       "      <th>Company</th>\n",
       "      <th>TypeName</th>\n",
       "      <th>Inches</th>\n",
       "      <th>Ram</th>\n",
       "      <th>OpSys</th>\n",
       "      <th>Weight</th>\n",
       "      <th>Price</th>\n",
       "      <th>Width</th>\n",
       "      <th>Height</th>\n",
       "      <th>CpuBrand</th>\n",
       "      <th>GpuBrand</th>\n",
       "      <th>SSD</th>\n",
       "      <th>HDD</th>\n",
       "    </tr>\n",
       "  </thead>\n",
       "  <tbody>\n",
       "    <tr>\n",
       "      <th>0</th>\n",
       "      <td>Apple</td>\n",
       "      <td>Ultrabook</td>\n",
       "      <td>13.3</td>\n",
       "      <td>8</td>\n",
       "      <td>macOS</td>\n",
       "      <td>1.37</td>\n",
       "      <td>71378.6832</td>\n",
       "      <td>2560</td>\n",
       "      <td>1600</td>\n",
       "      <td>Intel</td>\n",
       "      <td>Intel</td>\n",
       "      <td>128</td>\n",
       "      <td>0</td>\n",
       "    </tr>\n",
       "    <tr>\n",
       "      <th>1</th>\n",
       "      <td>Apple</td>\n",
       "      <td>Ultrabook</td>\n",
       "      <td>13.3</td>\n",
       "      <td>8</td>\n",
       "      <td>macOS</td>\n",
       "      <td>1.34</td>\n",
       "      <td>47895.5232</td>\n",
       "      <td>1440</td>\n",
       "      <td>900</td>\n",
       "      <td>Intel</td>\n",
       "      <td>Intel</td>\n",
       "      <td>0</td>\n",
       "      <td>0</td>\n",
       "    </tr>\n",
       "    <tr>\n",
       "      <th>2</th>\n",
       "      <td>HP</td>\n",
       "      <td>Notebook</td>\n",
       "      <td>15.6</td>\n",
       "      <td>8</td>\n",
       "      <td>No OS</td>\n",
       "      <td>1.86</td>\n",
       "      <td>30636.0000</td>\n",
       "      <td>1920</td>\n",
       "      <td>1080</td>\n",
       "      <td>Intel</td>\n",
       "      <td>Intel</td>\n",
       "      <td>256</td>\n",
       "      <td>0</td>\n",
       "    </tr>\n",
       "    <tr>\n",
       "      <th>3</th>\n",
       "      <td>Apple</td>\n",
       "      <td>Ultrabook</td>\n",
       "      <td>15.4</td>\n",
       "      <td>16</td>\n",
       "      <td>macOS</td>\n",
       "      <td>1.83</td>\n",
       "      <td>135195.3360</td>\n",
       "      <td>2880</td>\n",
       "      <td>1800</td>\n",
       "      <td>Intel</td>\n",
       "      <td>AMD</td>\n",
       "      <td>512</td>\n",
       "      <td>0</td>\n",
       "    </tr>\n",
       "    <tr>\n",
       "      <th>4</th>\n",
       "      <td>Apple</td>\n",
       "      <td>Ultrabook</td>\n",
       "      <td>13.3</td>\n",
       "      <td>8</td>\n",
       "      <td>macOS</td>\n",
       "      <td>1.37</td>\n",
       "      <td>96095.8080</td>\n",
       "      <td>2560</td>\n",
       "      <td>1600</td>\n",
       "      <td>Intel</td>\n",
       "      <td>Intel</td>\n",
       "      <td>256</td>\n",
       "      <td>0</td>\n",
       "    </tr>\n",
       "  </tbody>\n",
       "</table>\n",
       "</div>"
      ],
      "text/plain": [
       "  Company   TypeName  Inches  Ram  OpSys  Weight        Price  Width  Height  \\\n",
       "0   Apple  Ultrabook    13.3    8  macOS    1.37   71378.6832   2560    1600   \n",
       "1   Apple  Ultrabook    13.3    8  macOS    1.34   47895.5232   1440     900   \n",
       "2      HP   Notebook    15.6    8  No OS    1.86   30636.0000   1920    1080   \n",
       "3   Apple  Ultrabook    15.4   16  macOS    1.83  135195.3360   2880    1800   \n",
       "4   Apple  Ultrabook    13.3    8  macOS    1.37   96095.8080   2560    1600   \n",
       "\n",
       "  CpuBrand GpuBrand  SSD  HDD  \n",
       "0    Intel    Intel  128    0  \n",
       "1    Intel    Intel    0    0  \n",
       "2    Intel    Intel  256    0  \n",
       "3    Intel      AMD  512    0  \n",
       "4    Intel    Intel  256    0  "
      ]
     },
     "execution_count": 177,
     "metadata": {},
     "output_type": "execute_result"
    }
   ],
   "source": [
    "data.head()"
   ]
  },
  {
   "cell_type": "code",
   "execution_count": 178,
   "id": "590b12c4",
   "metadata": {},
   "outputs": [
    {
     "data": {
      "text/plain": [
       "(1303, 13)"
      ]
     },
     "execution_count": 178,
     "metadata": {},
     "output_type": "execute_result"
    }
   ],
   "source": [
    "data.shape"
   ]
  },
  {
   "cell_type": "markdown",
   "id": "e625bdd2",
   "metadata": {},
   "source": [
    "# ML"
   ]
  },
  {
   "cell_type": "code",
   "execution_count": 179,
   "id": "66cc7703",
   "metadata": {},
   "outputs": [],
   "source": [
    "# Spliting data into features and target variable\n",
    "X = data.drop(columns=['Price'], axis=1)\n",
    "y = data['Price']"
   ]
  },
  {
   "cell_type": "code",
   "execution_count": 180,
   "id": "f2716f6b",
   "metadata": {},
   "outputs": [
    {
     "data": {
      "text/plain": [
       "((1303, 12), (1303,))"
      ]
     },
     "execution_count": 180,
     "metadata": {},
     "output_type": "execute_result"
    }
   ],
   "source": [
    "X.shape, y.shape"
   ]
  },
  {
   "cell_type": "code",
   "execution_count": 181,
   "id": "b69dd604",
   "metadata": {},
   "outputs": [],
   "source": [
    "# Train and test split\n",
    "X_train, X_test, y_train, y_test = train_test_split(X, y, test_size=0.2, random_state=42)"
   ]
  },
  {
   "cell_type": "code",
   "execution_count": null,
   "id": "1e1d6e8e",
   "metadata": {},
   "outputs": [
    {
     "name": "stdout",
     "output_type": "stream",
     "text": [
      "Mean Squared Error: 299518960.99290603\n",
      "R2 Score: 0.7922720213076211\n"
     ]
    }
   ],
   "source": [
    "# Combine encoder and scaler into a single ColumnTransformer\n",
    "preprocessor = ColumnTransformer([\n",
    "\t('encoder', OneHotEncoder(), ['Company', 'TypeName', 'OpSys', 'CpuBrand', 'GpuBrand']),\n",
    "\t('scaler', MinMaxScaler(), ['Inches', 'Ram', 'Weight', 'Width', 'Height', 'SSD', 'HDD'])\n",
    "], remainder='passthrough')\n",
    "\n",
    "# Create a new pipeline with the combined preprocessor\n",
    "pipeline_fixed = Pipeline(steps=[\n",
    "\t('preprocessor', preprocessor),\n",
    "\t('model', RandomForestRegressor(n_estimators=100, max_depth=20, min_samples_split=2, min_samples_leaf=1, random_state=42))\n",
    "])\n",
    "\n",
    "pipeline_fixed.fit(X_train, y_train)\n",
    "# Doing predictions\n",
    "predictions = pipeline_fixed.predict(X_test)\n",
    "# Evaluating the model\n",
    "mse = mean_squared_error(y_test, predictions)\n",
    "r2 = r2_score(y_test, predictions)\n",
    "print(f'Mean Squared Error: {mse}')\n",
    "print(f'R2 Score: {r2}')\n",
    "\n"
   ]
  },
  {
   "cell_type": "code",
   "execution_count": 190,
   "id": "a8969fb1",
   "metadata": {},
   "outputs": [
    {
     "name": "stdout",
     "output_type": "stream",
     "text": [
      "Feature names after preprocessing:\n",
      "['encoder__Company_Acer' 'encoder__Company_Apple' 'encoder__Company_Asus'\n",
      " 'encoder__Company_Chuwi' 'encoder__Company_Dell'\n",
      " 'encoder__Company_Fujitsu' 'encoder__Company_Google'\n",
      " 'encoder__Company_HP' 'encoder__Company_Huawei' 'encoder__Company_LG'\n",
      " 'encoder__Company_Lenovo' 'encoder__Company_MSI'\n",
      " 'encoder__Company_Mediacom' 'encoder__Company_Microsoft'\n",
      " 'encoder__Company_Razer' 'encoder__Company_Samsung'\n",
      " 'encoder__Company_Toshiba' 'encoder__Company_Vero'\n",
      " 'encoder__Company_Xiaomi' 'encoder__TypeName_2 in 1 Convertible'\n",
      " 'encoder__TypeName_Gaming' 'encoder__TypeName_Netbook'\n",
      " 'encoder__TypeName_Notebook' 'encoder__TypeName_Ultrabook'\n",
      " 'encoder__TypeName_Workstation' 'encoder__OpSys_Android'\n",
      " 'encoder__OpSys_Chrome OS' 'encoder__OpSys_Linux'\n",
      " 'encoder__OpSys_Mac OS X' 'encoder__OpSys_No OS'\n",
      " 'encoder__OpSys_Windows 10' 'encoder__OpSys_Windows 10 S'\n",
      " 'encoder__OpSys_Windows 7' 'encoder__OpSys_macOS' 'encoder__CpuBrand_AMD'\n",
      " 'encoder__CpuBrand_Intel' 'encoder__CpuBrand_Samsung'\n",
      " 'encoder__GpuBrand_AMD' 'encoder__GpuBrand_ARM' 'encoder__GpuBrand_Intel'\n",
      " 'encoder__GpuBrand_Nvidia' 'scaler__Inches' 'scaler__Ram'\n",
      " 'scaler__Weight' 'scaler__Width' 'scaler__Height' 'scaler__SSD'\n",
      " 'scaler__HDD']\n"
     ]
    }
   ],
   "source": [
    "# Now I want to check the column names after preprocessing\n",
    "# Get the feature names after preprocessing\n",
    "feature_names = pipeline_fixed.named_steps['preprocessor'].get_feature_names_out()\n",
    "print(\"Feature names after preprocessing:\")\n",
    "print(feature_names)"
   ]
  },
  {
   "cell_type": "code",
   "execution_count": 195,
   "id": "f4e11cde",
   "metadata": {},
   "outputs": [
    {
     "name": "stdout",
     "output_type": "stream",
     "text": [
      "Column names and their datatypes:\n",
      "Company: object\n",
      "TypeName: object\n",
      "Inches: float64\n",
      "Ram: int64\n",
      "OpSys: object\n",
      "Weight: float64\n",
      "Width: int64\n",
      "Height: int64\n",
      "CpuBrand: object\n",
      "GpuBrand: object\n",
      "SSD: int64\n",
      "HDD: int64\n"
     ]
    }
   ],
   "source": [
    "# Create a dictionary of X_test column names and their datatypes\n",
    "column_info = {col: X_test[col].dtype for col in X_test.columns}\n",
    "# Print the column names and their datatypes\n",
    "print(\"Column names and their datatypes:\")\n",
    "for col, dtype in column_info.items():\n",
    "    print(f\"{col}: {dtype}\")"
   ]
  },
  {
   "cell_type": "code",
   "execution_count": 192,
   "id": "fc7cf85e",
   "metadata": {},
   "outputs": [
    {
     "data": {
      "text/plain": [
       "['../../models/Laptop_price_predictor.pkl']"
      ]
     },
     "execution_count": 192,
     "metadata": {},
     "output_type": "execute_result"
    }
   ],
   "source": [
    "# Now saving the model\n",
    "model_path = '../../models/Laptop_price_predictor.pkl'\n",
    "joblib.dump(pipeline_fixed, model_path)"
   ]
  }
 ],
 "metadata": {
  "kernelspec": {
   "display_name": "Python 3",
   "language": "python",
   "name": "python3"
  },
  "language_info": {
   "codemirror_mode": {
    "name": "ipython",
    "version": 3
   },
   "file_extension": ".py",
   "mimetype": "text/x-python",
   "name": "python",
   "nbconvert_exporter": "python",
   "pygments_lexer": "ipython3",
   "version": "3.11.7"
  }
 },
 "nbformat": 4,
 "nbformat_minor": 5
}
