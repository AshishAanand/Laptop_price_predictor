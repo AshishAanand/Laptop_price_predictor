{
 "cells": [
  {
   "cell_type": "code",
   "execution_count": 7,
   "id": "65023c78",
   "metadata": {},
   "outputs": [],
   "source": [
    "import pandas as pd\n",
    "import numpy as np\n",
    "import os\n",
    "import sys\n",
    "from sklearn.preprocessing import LabelEncoder, MinMaxScaler, FunctionTransformer\n",
    "from sklearn.feature_selection import SelectKBest, f_classif\n",
    "from sklearn.compose import ColumnTransformer\n",
    "from sklearn.pipeline import Pipeline\n",
    "import joblib"
   ]
  },
  {
   "cell_type": "code",
   "execution_count": 8,
   "id": "19bf1755",
   "metadata": {},
   "outputs": [],
   "source": [
    "sys.path.append(os.path.abspath(\"../../\"))\n",
    "from utils.helper import clean_data"
   ]
  },
  {
   "cell_type": "markdown",
   "id": "447a7571",
   "metadata": {},
   "source": [
    "# Loding Data"
   ]
  },
  {
   "cell_type": "code",
   "execution_count": 9,
   "id": "0f195b53",
   "metadata": {},
   "outputs": [],
   "source": [
    "data = pd.read_csv('../../data/raw/laptop_data.csv')"
   ]
  },
  {
   "cell_type": "code",
   "execution_count": 10,
   "id": "aefe8f28",
   "metadata": {},
   "outputs": [
    {
     "data": {
      "application/vnd.microsoft.datawrangler.viewer.v0+json": {
       "columns": [
        {
         "name": "index",
         "rawType": "int64",
         "type": "integer"
        },
        {
         "name": "Company",
         "rawType": "object",
         "type": "string"
        },
        {
         "name": "TypeName",
         "rawType": "object",
         "type": "string"
        },
        {
         "name": "Inches",
         "rawType": "float64",
         "type": "float"
        },
        {
         "name": "ScreenResolution",
         "rawType": "object",
         "type": "string"
        },
        {
         "name": "Cpu",
         "rawType": "object",
         "type": "string"
        },
        {
         "name": "Ram",
         "rawType": "object",
         "type": "string"
        },
        {
         "name": "Memory",
         "rawType": "object",
         "type": "string"
        },
        {
         "name": "Gpu",
         "rawType": "object",
         "type": "string"
        },
        {
         "name": "OpSys",
         "rawType": "object",
         "type": "string"
        },
        {
         "name": "Weight",
         "rawType": "object",
         "type": "string"
        },
        {
         "name": "Price",
         "rawType": "float64",
         "type": "float"
        }
       ],
       "ref": "d45942ed-3d19-40d9-be8f-c02804e6ba0d",
       "rows": [
        [
         "0",
         "Apple",
         "Ultrabook",
         "13.3",
         "IPS Panel Retina Display 2560x1600",
         "Intel Core i5 2.3GHz",
         "8GB",
         "128GB SSD",
         "Intel Iris Plus Graphics 640",
         "macOS",
         "1.37kg",
         "71378.6832"
        ],
        [
         "1",
         "Apple",
         "Ultrabook",
         "13.3",
         "1440x900",
         "Intel Core i5 1.8GHz",
         "8GB",
         "128GB Flash Storage",
         "Intel HD Graphics 6000",
         "macOS",
         "1.34kg",
         "47895.5232"
        ],
        [
         "2",
         "HP",
         "Notebook",
         "15.6",
         "Full HD 1920x1080",
         "Intel Core i5 7200U 2.5GHz",
         "8GB",
         "256GB SSD",
         "Intel HD Graphics 620",
         "No OS",
         "1.86kg",
         "30636.0"
        ],
        [
         "3",
         "Apple",
         "Ultrabook",
         "15.4",
         "IPS Panel Retina Display 2880x1800",
         "Intel Core i7 2.7GHz",
         "16GB",
         "512GB SSD",
         "AMD Radeon Pro 455",
         "macOS",
         "1.83kg",
         "135195.336"
        ],
        [
         "4",
         "Apple",
         "Ultrabook",
         "13.3",
         "IPS Panel Retina Display 2560x1600",
         "Intel Core i5 3.1GHz",
         "8GB",
         "256GB SSD",
         "Intel Iris Plus Graphics 650",
         "macOS",
         "1.37kg",
         "96095.808"
        ]
       ],
       "shape": {
        "columns": 11,
        "rows": 5
       }
      },
      "text/html": [
       "<div>\n",
       "<style scoped>\n",
       "    .dataframe tbody tr th:only-of-type {\n",
       "        vertical-align: middle;\n",
       "    }\n",
       "\n",
       "    .dataframe tbody tr th {\n",
       "        vertical-align: top;\n",
       "    }\n",
       "\n",
       "    .dataframe thead th {\n",
       "        text-align: right;\n",
       "    }\n",
       "</style>\n",
       "<table border=\"1\" class=\"dataframe\">\n",
       "  <thead>\n",
       "    <tr style=\"text-align: right;\">\n",
       "      <th></th>\n",
       "      <th>Company</th>\n",
       "      <th>TypeName</th>\n",
       "      <th>Inches</th>\n",
       "      <th>ScreenResolution</th>\n",
       "      <th>Cpu</th>\n",
       "      <th>Ram</th>\n",
       "      <th>Memory</th>\n",
       "      <th>Gpu</th>\n",
       "      <th>OpSys</th>\n",
       "      <th>Weight</th>\n",
       "      <th>Price</th>\n",
       "    </tr>\n",
       "  </thead>\n",
       "  <tbody>\n",
       "    <tr>\n",
       "      <th>0</th>\n",
       "      <td>Apple</td>\n",
       "      <td>Ultrabook</td>\n",
       "      <td>13.3</td>\n",
       "      <td>IPS Panel Retina Display 2560x1600</td>\n",
       "      <td>Intel Core i5 2.3GHz</td>\n",
       "      <td>8GB</td>\n",
       "      <td>128GB SSD</td>\n",
       "      <td>Intel Iris Plus Graphics 640</td>\n",
       "      <td>macOS</td>\n",
       "      <td>1.37kg</td>\n",
       "      <td>71378.6832</td>\n",
       "    </tr>\n",
       "    <tr>\n",
       "      <th>1</th>\n",
       "      <td>Apple</td>\n",
       "      <td>Ultrabook</td>\n",
       "      <td>13.3</td>\n",
       "      <td>1440x900</td>\n",
       "      <td>Intel Core i5 1.8GHz</td>\n",
       "      <td>8GB</td>\n",
       "      <td>128GB Flash Storage</td>\n",
       "      <td>Intel HD Graphics 6000</td>\n",
       "      <td>macOS</td>\n",
       "      <td>1.34kg</td>\n",
       "      <td>47895.5232</td>\n",
       "    </tr>\n",
       "    <tr>\n",
       "      <th>2</th>\n",
       "      <td>HP</td>\n",
       "      <td>Notebook</td>\n",
       "      <td>15.6</td>\n",
       "      <td>Full HD 1920x1080</td>\n",
       "      <td>Intel Core i5 7200U 2.5GHz</td>\n",
       "      <td>8GB</td>\n",
       "      <td>256GB SSD</td>\n",
       "      <td>Intel HD Graphics 620</td>\n",
       "      <td>No OS</td>\n",
       "      <td>1.86kg</td>\n",
       "      <td>30636.0000</td>\n",
       "    </tr>\n",
       "    <tr>\n",
       "      <th>3</th>\n",
       "      <td>Apple</td>\n",
       "      <td>Ultrabook</td>\n",
       "      <td>15.4</td>\n",
       "      <td>IPS Panel Retina Display 2880x1800</td>\n",
       "      <td>Intel Core i7 2.7GHz</td>\n",
       "      <td>16GB</td>\n",
       "      <td>512GB SSD</td>\n",
       "      <td>AMD Radeon Pro 455</td>\n",
       "      <td>macOS</td>\n",
       "      <td>1.83kg</td>\n",
       "      <td>135195.3360</td>\n",
       "    </tr>\n",
       "    <tr>\n",
       "      <th>4</th>\n",
       "      <td>Apple</td>\n",
       "      <td>Ultrabook</td>\n",
       "      <td>13.3</td>\n",
       "      <td>IPS Panel Retina Display 2560x1600</td>\n",
       "      <td>Intel Core i5 3.1GHz</td>\n",
       "      <td>8GB</td>\n",
       "      <td>256GB SSD</td>\n",
       "      <td>Intel Iris Plus Graphics 650</td>\n",
       "      <td>macOS</td>\n",
       "      <td>1.37kg</td>\n",
       "      <td>96095.8080</td>\n",
       "    </tr>\n",
       "  </tbody>\n",
       "</table>\n",
       "</div>"
      ],
      "text/plain": [
       "  Company   TypeName  Inches                    ScreenResolution  \\\n",
       "0   Apple  Ultrabook    13.3  IPS Panel Retina Display 2560x1600   \n",
       "1   Apple  Ultrabook    13.3                            1440x900   \n",
       "2      HP   Notebook    15.6                   Full HD 1920x1080   \n",
       "3   Apple  Ultrabook    15.4  IPS Panel Retina Display 2880x1800   \n",
       "4   Apple  Ultrabook    13.3  IPS Panel Retina Display 2560x1600   \n",
       "\n",
       "                          Cpu   Ram               Memory  \\\n",
       "0        Intel Core i5 2.3GHz   8GB            128GB SSD   \n",
       "1        Intel Core i5 1.8GHz   8GB  128GB Flash Storage   \n",
       "2  Intel Core i5 7200U 2.5GHz   8GB            256GB SSD   \n",
       "3        Intel Core i7 2.7GHz  16GB            512GB SSD   \n",
       "4        Intel Core i5 3.1GHz   8GB            256GB SSD   \n",
       "\n",
       "                            Gpu  OpSys  Weight        Price  \n",
       "0  Intel Iris Plus Graphics 640  macOS  1.37kg   71378.6832  \n",
       "1        Intel HD Graphics 6000  macOS  1.34kg   47895.5232  \n",
       "2         Intel HD Graphics 620  No OS  1.86kg   30636.0000  \n",
       "3            AMD Radeon Pro 455  macOS  1.83kg  135195.3360  \n",
       "4  Intel Iris Plus Graphics 650  macOS  1.37kg   96095.8080  "
      ]
     },
     "execution_count": 10,
     "metadata": {},
     "output_type": "execute_result"
    }
   ],
   "source": [
    "data.head()"
   ]
  },
  {
   "cell_type": "code",
   "execution_count": 11,
   "id": "0725eb94",
   "metadata": {},
   "outputs": [],
   "source": [
    "# data_clean = clean_data(data.copy())\n",
    "# data_clean.head()"
   ]
  },
  {
   "cell_type": "code",
   "execution_count": 12,
   "id": "be803480",
   "metadata": {},
   "outputs": [],
   "source": [
    "# Convert 'Ram' and 'Weight' columns to numeric values\n",
    "data['Ram'] = data['Ram'].str.replace('GB', '').astype(int)\n",
    "\n",
    "data['Weight'] = data['Weight'].str.replace('kg', '').astype(float)\n",
    "\n",
    "\n",
    "# Extract screen resolution width and height\n",
    "data[['Width', 'Height']] = data['ScreenResolution'].str.extract(r'(\\d+)x(\\d+)').astype(int)\n",
    "\n",
    "\n",
    "# Extract CPU brand and model\n",
    "data['CpuBrand'] = data['Cpu'].str.split().str[0]\n",
    "# Extract GPU brand\n",
    "data['GpuBrand'] = data['Gpu'].str.split().str[0]\n",
    "\n",
    "# Convert 'Memory' column into separate SSD and HDD columns\n",
    "data['SSD'] = data['Memory'].str.extract(r'(\\d+)GB SSD', expand=False).fillna(0).astype(int)\n",
    "data['HDD'] = data['Memory'].str.extract(r'(\\d+)GB HDD', expand=False).fillna(0).astype(int)\n",
    "\n",
    "# Drop unnecessary columns\n",
    "data = data.drop(columns=['ScreenResolution', 'Cpu', 'Gpu', 'Memory'])"
   ]
  },
  {
   "cell_type": "code",
   "execution_count": 13,
   "id": "2a412028",
   "metadata": {},
   "outputs": [
    {
     "data": {
      "application/vnd.microsoft.datawrangler.viewer.v0+json": {
       "columns": [
        {
         "name": "index",
         "rawType": "int64",
         "type": "integer"
        },
        {
         "name": "Company",
         "rawType": "object",
         "type": "string"
        },
        {
         "name": "TypeName",
         "rawType": "object",
         "type": "string"
        },
        {
         "name": "Inches",
         "rawType": "float64",
         "type": "float"
        },
        {
         "name": "Ram",
         "rawType": "int64",
         "type": "integer"
        },
        {
         "name": "OpSys",
         "rawType": "object",
         "type": "string"
        },
        {
         "name": "Weight",
         "rawType": "float64",
         "type": "float"
        },
        {
         "name": "Price",
         "rawType": "float64",
         "type": "float"
        },
        {
         "name": "Width",
         "rawType": "int64",
         "type": "integer"
        },
        {
         "name": "Height",
         "rawType": "int64",
         "type": "integer"
        },
        {
         "name": "CpuBrand",
         "rawType": "object",
         "type": "string"
        },
        {
         "name": "GpuBrand",
         "rawType": "object",
         "type": "string"
        },
        {
         "name": "SSD",
         "rawType": "int64",
         "type": "integer"
        },
        {
         "name": "HDD",
         "rawType": "int64",
         "type": "integer"
        }
       ],
       "ref": "a55d0dfe-de07-460e-950c-bbbcaf5261e9",
       "rows": [
        [
         "0",
         "Apple",
         "Ultrabook",
         "13.3",
         "8",
         "macOS",
         "1.37",
         "71378.6832",
         "2560",
         "1600",
         "Intel",
         "Intel",
         "128",
         "0"
        ],
        [
         "1",
         "Apple",
         "Ultrabook",
         "13.3",
         "8",
         "macOS",
         "1.34",
         "47895.5232",
         "1440",
         "900",
         "Intel",
         "Intel",
         "0",
         "0"
        ],
        [
         "2",
         "HP",
         "Notebook",
         "15.6",
         "8",
         "No OS",
         "1.86",
         "30636.0",
         "1920",
         "1080",
         "Intel",
         "Intel",
         "256",
         "0"
        ],
        [
         "3",
         "Apple",
         "Ultrabook",
         "15.4",
         "16",
         "macOS",
         "1.83",
         "135195.336",
         "2880",
         "1800",
         "Intel",
         "AMD",
         "512",
         "0"
        ],
        [
         "4",
         "Apple",
         "Ultrabook",
         "13.3",
         "8",
         "macOS",
         "1.37",
         "96095.808",
         "2560",
         "1600",
         "Intel",
         "Intel",
         "256",
         "0"
        ]
       ],
       "shape": {
        "columns": 13,
        "rows": 5
       }
      },
      "text/html": [
       "<div>\n",
       "<style scoped>\n",
       "    .dataframe tbody tr th:only-of-type {\n",
       "        vertical-align: middle;\n",
       "    }\n",
       "\n",
       "    .dataframe tbody tr th {\n",
       "        vertical-align: top;\n",
       "    }\n",
       "\n",
       "    .dataframe thead th {\n",
       "        text-align: right;\n",
       "    }\n",
       "</style>\n",
       "<table border=\"1\" class=\"dataframe\">\n",
       "  <thead>\n",
       "    <tr style=\"text-align: right;\">\n",
       "      <th></th>\n",
       "      <th>Company</th>\n",
       "      <th>TypeName</th>\n",
       "      <th>Inches</th>\n",
       "      <th>Ram</th>\n",
       "      <th>OpSys</th>\n",
       "      <th>Weight</th>\n",
       "      <th>Price</th>\n",
       "      <th>Width</th>\n",
       "      <th>Height</th>\n",
       "      <th>CpuBrand</th>\n",
       "      <th>GpuBrand</th>\n",
       "      <th>SSD</th>\n",
       "      <th>HDD</th>\n",
       "    </tr>\n",
       "  </thead>\n",
       "  <tbody>\n",
       "    <tr>\n",
       "      <th>0</th>\n",
       "      <td>Apple</td>\n",
       "      <td>Ultrabook</td>\n",
       "      <td>13.3</td>\n",
       "      <td>8</td>\n",
       "      <td>macOS</td>\n",
       "      <td>1.37</td>\n",
       "      <td>71378.6832</td>\n",
       "      <td>2560</td>\n",
       "      <td>1600</td>\n",
       "      <td>Intel</td>\n",
       "      <td>Intel</td>\n",
       "      <td>128</td>\n",
       "      <td>0</td>\n",
       "    </tr>\n",
       "    <tr>\n",
       "      <th>1</th>\n",
       "      <td>Apple</td>\n",
       "      <td>Ultrabook</td>\n",
       "      <td>13.3</td>\n",
       "      <td>8</td>\n",
       "      <td>macOS</td>\n",
       "      <td>1.34</td>\n",
       "      <td>47895.5232</td>\n",
       "      <td>1440</td>\n",
       "      <td>900</td>\n",
       "      <td>Intel</td>\n",
       "      <td>Intel</td>\n",
       "      <td>0</td>\n",
       "      <td>0</td>\n",
       "    </tr>\n",
       "    <tr>\n",
       "      <th>2</th>\n",
       "      <td>HP</td>\n",
       "      <td>Notebook</td>\n",
       "      <td>15.6</td>\n",
       "      <td>8</td>\n",
       "      <td>No OS</td>\n",
       "      <td>1.86</td>\n",
       "      <td>30636.0000</td>\n",
       "      <td>1920</td>\n",
       "      <td>1080</td>\n",
       "      <td>Intel</td>\n",
       "      <td>Intel</td>\n",
       "      <td>256</td>\n",
       "      <td>0</td>\n",
       "    </tr>\n",
       "    <tr>\n",
       "      <th>3</th>\n",
       "      <td>Apple</td>\n",
       "      <td>Ultrabook</td>\n",
       "      <td>15.4</td>\n",
       "      <td>16</td>\n",
       "      <td>macOS</td>\n",
       "      <td>1.83</td>\n",
       "      <td>135195.3360</td>\n",
       "      <td>2880</td>\n",
       "      <td>1800</td>\n",
       "      <td>Intel</td>\n",
       "      <td>AMD</td>\n",
       "      <td>512</td>\n",
       "      <td>0</td>\n",
       "    </tr>\n",
       "    <tr>\n",
       "      <th>4</th>\n",
       "      <td>Apple</td>\n",
       "      <td>Ultrabook</td>\n",
       "      <td>13.3</td>\n",
       "      <td>8</td>\n",
       "      <td>macOS</td>\n",
       "      <td>1.37</td>\n",
       "      <td>96095.8080</td>\n",
       "      <td>2560</td>\n",
       "      <td>1600</td>\n",
       "      <td>Intel</td>\n",
       "      <td>Intel</td>\n",
       "      <td>256</td>\n",
       "      <td>0</td>\n",
       "    </tr>\n",
       "  </tbody>\n",
       "</table>\n",
       "</div>"
      ],
      "text/plain": [
       "  Company   TypeName  Inches  Ram  OpSys  Weight        Price  Width  Height  \\\n",
       "0   Apple  Ultrabook    13.3    8  macOS    1.37   71378.6832   2560    1600   \n",
       "1   Apple  Ultrabook    13.3    8  macOS    1.34   47895.5232   1440     900   \n",
       "2      HP   Notebook    15.6    8  No OS    1.86   30636.0000   1920    1080   \n",
       "3   Apple  Ultrabook    15.4   16  macOS    1.83  135195.3360   2880    1800   \n",
       "4   Apple  Ultrabook    13.3    8  macOS    1.37   96095.8080   2560    1600   \n",
       "\n",
       "  CpuBrand GpuBrand  SSD  HDD  \n",
       "0    Intel    Intel  128    0  \n",
       "1    Intel    Intel    0    0  \n",
       "2    Intel    Intel  256    0  \n",
       "3    Intel      AMD  512    0  \n",
       "4    Intel    Intel  256    0  "
      ]
     },
     "execution_count": 13,
     "metadata": {},
     "output_type": "execute_result"
    }
   ],
   "source": [
    "data.head()"
   ]
  },
  {
   "cell_type": "code",
   "execution_count": 18,
   "id": "ff14e26d",
   "metadata": {},
   "outputs": [],
   "source": [
    "data_cleaned = data.copy()"
   ]
  },
  {
   "cell_type": "code",
   "execution_count": 19,
   "id": "3b5e915f",
   "metadata": {},
   "outputs": [],
   "source": [
    "data_cleaned.to_csv('../../data/processed/cleaned_laptop_data.csv', index=False)"
   ]
  },
  {
   "cell_type": "code",
   "execution_count": 14,
   "id": "9c85a60c",
   "metadata": {},
   "outputs": [],
   "source": [
    "# # Creating a data pipeline using ColumnTransformer where I implement these helper functions also\n",
    "\n",
    "# cleaner_function = FunctionTransformer(func=clean_data)\n",
    "\n",
    "# pipeline = Pipeline(steps=[\n",
    "#     ('cleaner', FunctionTransformer(clean_data))\n",
    "# ])\n",
    "\n",
    "# # Fit the pipeline to the data\n",
    "# data_cleaned = pipeline.fit_transform(data)"
   ]
  },
  {
   "cell_type": "code",
   "execution_count": 15,
   "id": "c69bc419",
   "metadata": {},
   "outputs": [],
   "source": [
    "# data_cleaned.head()"
   ]
  },
  {
   "cell_type": "code",
   "execution_count": 16,
   "id": "df399a78",
   "metadata": {},
   "outputs": [],
   "source": [
    "# data_cleaned.to_csv('../../data/processed/laptop_data_cleaned.csv', index=False)"
   ]
  },
  {
   "cell_type": "code",
   "execution_count": 17,
   "id": "3283103b",
   "metadata": {},
   "outputs": [],
   "source": [
    "# Save the pipeline to a file\n",
    "# joblib.dump(pipeline, '../../models/preprocessing_pipeline.pkl')"
   ]
  }
 ],
 "metadata": {
  "kernelspec": {
   "display_name": "Python 3",
   "language": "python",
   "name": "python3"
  },
  "language_info": {
   "codemirror_mode": {
    "name": "ipython",
    "version": 3
   },
   "file_extension": ".py",
   "mimetype": "text/x-python",
   "name": "python",
   "nbconvert_exporter": "python",
   "pygments_lexer": "ipython3",
   "version": "3.11.7"
  }
 },
 "nbformat": 4,
 "nbformat_minor": 5
}
